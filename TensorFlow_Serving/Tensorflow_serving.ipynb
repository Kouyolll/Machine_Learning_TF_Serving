{
    "cells": [
        {
            "cell_type": "code",
            "execution_count": 6,
            "metadata": {},
            "outputs": [
                {
                    "name": "stdout",
                    "output_type": "stream",
                    "text": [
                        "Epoch 1/5\n",
                        "1875/1875 [==============================] - 8s 4ms/step - loss: 0.2961 - accuracy: 0.9139\n",
                        "Epoch 2/5\n",
                        "1875/1875 [==============================] - 7s 4ms/step - loss: 0.1430 - accuracy: 0.9580\n",
                        "Epoch 3/5\n",
                        "1875/1875 [==============================] - 7s 4ms/step - loss: 0.1058 - accuracy: 0.9679\n",
                        "Epoch 4/5\n",
                        "1875/1875 [==============================] - 7s 4ms/step - loss: 0.0868 - accuracy: 0.9737\n",
                        "Epoch 5/5\n",
                        "1875/1875 [==============================] - 7s 4ms/step - loss: 0.0738 - accuracy: 0.9768\n",
                        "INFO:tensorflow:Assets written to: /home/ericcheek/Desktop/GEC/Machine Learning Hardware/Course_Materials/Session_3/1/assets\n"
                    ]
                },
                {
                    "name": "stderr",
                    "output_type": "stream",
                    "text": [
                        "INFO:tensorflow:Assets written to: /home/ericcheek/Desktop/GEC/Machine Learning Hardware/Course_Materials/Session_3/1/assets\n"
                    ]
                }
            ],
            "source": [
                "import tensorflow as tf \n",
                "import os \n",
                "\n",
                "# Load MNIST dataset\n",
                "mnist = tf.keras.datasets.mnist\n",
                "(x_train, y_train), (x_test, y_test) = mnist.load_data()\n",
                "\n",
                "# Normalize the data\n",
                "x_train, x_test = x_train / 255.0, x_test / 255.0\n",
                "\n",
                "# Build a sequential model\n",
                "model = tf.keras.models.Sequential([\n",
                "  tf.keras.layers.Flatten(input_shape=(28, 28)),\n",
                "  tf.keras.layers.Dense(128, activation='relu'),\n",
                "  tf.keras.layers.Dropout(0.2),\n",
                "  tf.keras.layers.Dense(10)\n",
                "])\n",
                "\n",
                "# Compile the model\n",
                "model.compile(optimizer='adam',\n",
                "              loss=tf.keras.losses.SparseCategoricalCrossentropy(from_logits=True),\n",
                "              metrics=['accuracy'])\n",
                "\n",
                "# Train the model\n",
                "model.fit(x_train, y_train, epochs=5)\n",
                "# Save the model in TensorFlow SavedModel format\n",
                "\n",
                "model.save(os.path.join(os.getcwd(), '1/'))  # The '1' denotes the model version\n",
                "\n"
            ]
        },
        {
            "cell_type": "code",
            "execution_count": 2,
            "metadata": {},
            "outputs": [
                {
                    "name": "stdout",
                    "output_type": "stream",
                    "text": [
                        "INFO:tensorflow:Assets written to: /home/ericcheek/Desktop/GEC/Machine Learning Hardware/Course_Materials/Session_3/mnist_model/1/assets\n"
                    ]
                },
                {
                    "name": "stderr",
                    "output_type": "stream",
                    "text": [
                        "INFO:tensorflow:Assets written to: /home/ericcheek/Desktop/GEC/Machine Learning Hardware/Course_Materials/Session_3/mnist_model/1/assets\n"
                    ]
                }
            ],
            "source": [
                "model.save(os.path.join(os.getcwd(), 'mnist_model', '1/'))  # The '1' denotes the model version"
            ]
        },
        {
            "cell_type": "code",
            "execution_count": 3,
            "metadata": {},
            "outputs": [
                {
                    "name": "stdout",
                    "output_type": "stream",
                    "text": [
                        "313/313 - 1s - loss: 0.0758 - accuracy: 0.9780 - 1s/epoch - 4ms/step\n"
                    ]
                },
                {
                    "data": {
                        "text/plain": [
                            "[0.07581305503845215, 0.9779999852180481]"
                        ]
                    },
                    "execution_count": 3,
                    "metadata": {},
                    "output_type": "execute_result"
                }
            ],
            "source": [
                "# Evaluate the model\n",
                "model.evaluate(x_test, y_test, verbose=2)\n"
            ]
        },
        {
            "cell_type": "code",
            "execution_count": 1,
            "metadata": {},
            "outputs": [
                {
                    "name": "stderr",
                    "output_type": "stream",
                    "text": [
                        "Error response from daemon: No such container: tf_serving\n",
                        "Error response from daemon: No such container: tf_serving\n"
                    ]
                }
            ],
            "source": [
                "!docker stop tf_serving_new\n",
                "!docker rm tf_serving_new"
            ]
        },
        {
            "cell_type": "code",
            "execution_count": 6,
            "metadata": {},
            "outputs": [],
            "source": [
                "# The next two lines with exclamation points are to be run in the terminal, not in this notebook. Delete the \"!\" in front of the word docker and run them in the terminal.\n",
                "# Pull and run the TensorFlow Serving Docker image, mounting the model directory\n",
                "\n",
                "#!docker pull tensorflow/serving\n",
                "\n",
                "#!docker run -p 8501:8501 --name=tf_serving --mount type=bind,source=/path/to/models/my_model/,target=/models/my_model -e MODEL_NAME=my_model -t tensorflow/serving\n",
                "# Change \"/path/to/models/my_model/\" and \"/models/my_model/\" to the directory which contains the folder \"/1/\"\n",
                "# For me, I would run the following: \n",
                "#!docker run -p 8501:8501 --name=tf_serving --mount type=bind,source=\"/home/ericcheek/Desktop/GEC/Machine Learning Hardware/Course_Materials/Session_3/mnist_model\",target=/models/my_model -e MODEL_NAME=my_model -t tensorflow/serving\n",
                "# Note: I am using a Linux operating system. If you are running Windows, use backwards slashes to specify the path. "
            ]
        },
        {
            "cell_type": "code",
            "execution_count": 3,
            "metadata": {},
            "outputs": [
                {
                    "name": "stdout",
                    "output_type": "stream",
                    "text": [
                        "Requirement already satisfied: requests in /home/ericcheek/Desktop/GEC/Machine Learning Hardware/venv/lib/python3.8/site-packages (2.31.0)\n",
                        "Requirement already satisfied: charset-normalizer<4,>=2 in /home/ericcheek/Desktop/GEC/Machine Learning Hardware/venv/lib/python3.8/site-packages (from requests) (3.3.2)\n",
                        "Requirement already satisfied: idna<4,>=2.5 in /home/ericcheek/Desktop/GEC/Machine Learning Hardware/venv/lib/python3.8/site-packages (from requests) (3.6)\n",
                        "Requirement already satisfied: urllib3<3,>=1.21.1 in /home/ericcheek/Desktop/GEC/Machine Learning Hardware/venv/lib/python3.8/site-packages (from requests) (2.1.0)\n",
                        "Requirement already satisfied: certifi>=2017.4.17 in /home/ericcheek/Desktop/GEC/Machine Learning Hardware/venv/lib/python3.8/site-packages (from requests) (2023.11.17)\n",
                        "\n",
                        "\u001b[1m[\u001b[0m\u001b[34;49mnotice\u001b[0m\u001b[1;39;49m]\u001b[0m\u001b[39;49m A new release of pip is available: \u001b[0m\u001b[31;49m23.3.2\u001b[0m\u001b[39;49m -> \u001b[0m\u001b[32;49m24.0\u001b[0m\n",
                        "\u001b[1m[\u001b[0m\u001b[34;49mnotice\u001b[0m\u001b[1;39;49m]\u001b[0m\u001b[39;49m To update, run: \u001b[0m\u001b[32;49mpip install --upgrade pip\u001b[0m\n"
                    ]
                }
            ],
            "source": [
                "%pip install requests #install the requests library if you don't have it already\n"
            ]
        },
        {
            "cell_type": "code",
            "execution_count": 4,
            "metadata": {},
            "outputs": [
                {
                    "ename": "NameError",
                    "evalue": "name 'x_train' is not defined",
                    "output_type": "error",
                    "traceback": [
                        "\u001b[1;31m---------------------------------------------------------------------------\u001b[0m",
                        "\u001b[1;31mNameError\u001b[0m                                 Traceback (most recent call last)",
                        "Cell \u001b[1;32mIn[4], line 7\u001b[0m\n\u001b[0;32m      4\u001b[0m \u001b[38;5;28;01mimport\u001b[39;00m \u001b[38;5;21;01mmatplotlib\u001b[39;00m\u001b[38;5;21;01m.\u001b[39;00m\u001b[38;5;21;01mpyplot\u001b[39;00m \u001b[38;5;28;01mas\u001b[39;00m \u001b[38;5;21;01mplt\u001b[39;00m\n\u001b[0;32m      5\u001b[0m \u001b[38;5;28;01mimport\u001b[39;00m \u001b[38;5;21;01mtime\u001b[39;00m \n\u001b[1;32m----> 7\u001b[0m idxer \u001b[38;5;241m=\u001b[39m np\u001b[38;5;241m.\u001b[39mrandom\u001b[38;5;241m.\u001b[39mrandint(np\u001b[38;5;241m.\u001b[39mshape(\u001b[43mx_train\u001b[49m)[\u001b[38;5;241m0\u001b[39m])\n\u001b[0;32m     10\u001b[0m test_image \u001b[38;5;241m=\u001b[39m x_train[idxer]\n\u001b[0;32m     11\u001b[0m test_image \u001b[38;5;241m=\u001b[39m test_image\u001b[38;5;241m.\u001b[39mreshape(\u001b[38;5;241m1\u001b[39m,\u001b[38;5;241m28\u001b[39m,\u001b[38;5;241m28\u001b[39m)\n",
                        "\u001b[1;31mNameError\u001b[0m: name 'x_train' is not defined"
                    ]
                }
            ],
            "source": [
                "import requests\n",
                "import json\n",
                "import numpy as np\n",
                "import matplotlib.pyplot as plt\n",
                "import time \n",
                "\n",
                "idxer = np.random.randint(np.shape(x_train)[0])\n",
                "\n",
                "\n",
                "test_image = x_train[idxer]\n",
                "test_image = test_image.reshape(1,28,28)\n",
                "image_list = test_image.tolist()  # Convert to list\n",
                "\n",
                "digits = np.arange(10)\n",
                "\n",
                "# URL of your TensorFlow Serving server\n",
                "url = 'http://localhost:8501/v1/models/my_model:predict'\n",
                "\n",
                "# Prepare your input data in the format expected by your model\n",
                "# This is just an example; you'll need to replace it with your actual input data\n",
                "data = {\n",
                "    \"instances\": [\n",
                "        # Your input data goes here\n",
                "        # For example: [0.1, 0.2, 0.3, ...]\n",
                "        image_list\n",
                "    ]\n",
                "}\n",
                "\n",
                "# Convert data to JSON format\n",
                "json_data = json.dumps(data)\n",
                "\n",
                "start_time=time.time()\n",
                "# Send a POST request to the TensorFlow Serving API\n",
                "response = requests.post(url, data=json_data)\n",
                "end_time=time=time()\n",
                "\n",
                "latency = end_time - start_time\n",
                "\n",
                "# The response will be a JSON object that includes the inference result\n",
                "result = response.json()\n",
                "print(result)\n",
                "print(f\"Time needed to make prediction: {latency} seconds\")\n",
                "predicted_digit = digits[np.argmax(result['predictions'])]\n",
                "\n",
                "plt.imshow(test_image[0])\n",
                "plt.title(f\"Predicted Image: {predicted_digit} \\nTrue Image: {y_train[idxer]}\")\n",
                "\n",
                "\n",
                "\n",
                "\n"
            ]
        },
        {
            "cell_type": "code",
            "execution_count": 3,
            "metadata": {},
            "outputs": [
                {
                    "name": "stdout",
                    "output_type": "stream",
                    "text": [
                        "Collecting matplotlib\n",
                        "  Downloading matplotlib-3.8.3-cp311-cp311-win_amd64.whl.metadata (5.9 kB)\n",
                        "Collecting contourpy>=1.0.1 (from matplotlib)\n",
                        "  Using cached contourpy-1.2.0-cp311-cp311-win_amd64.whl.metadata (5.8 kB)\n",
                        "Collecting cycler>=0.10 (from matplotlib)\n",
                        "  Using cached cycler-0.12.1-py3-none-any.whl.metadata (3.8 kB)\n",
                        "Collecting fonttools>=4.22.0 (from matplotlib)\n",
                        "  Downloading fonttools-4.49.0-cp311-cp311-win_amd64.whl.metadata (162 kB)\n",
                        "     ---------------------------------------- 0.0/162.3 kB ? eta -:--:--\n",
                        "     ---------------------------------------- 0.0/162.3 kB ? eta -:--:--\n",
                        "     ------- -------------------------------- 30.7/162.3 kB ? eta -:--:--\n",
                        "     ------------------- ------------------- 81.9/162.3 kB 1.5 MB/s eta 0:00:01\n",
                        "     -------------------------------------- 162.3/162.3 kB 1.9 MB/s eta 0:00:00\n",
                        "Collecting kiwisolver>=1.3.1 (from matplotlib)\n",
                        "  Using cached kiwisolver-1.4.5-cp311-cp311-win_amd64.whl.metadata (6.5 kB)\n",
                        "Requirement already satisfied: numpy<2,>=1.21 in d:\\desktop20230924-\\assignment 2\\.venv\\lib\\site-packages (from matplotlib) (1.26.4)\n",
                        "Requirement already satisfied: packaging>=20.0 in d:\\desktop20230924-\\assignment 2\\.venv\\lib\\site-packages (from matplotlib) (23.2)\n",
                        "Collecting pillow>=8 (from matplotlib)\n",
                        "  Using cached pillow-10.2.0-cp311-cp311-win_amd64.whl.metadata (9.9 kB)\n",
                        "Collecting pyparsing>=2.3.1 (from matplotlib)\n",
                        "  Using cached pyparsing-3.1.1-py3-none-any.whl.metadata (5.1 kB)\n",
                        "Requirement already satisfied: python-dateutil>=2.7 in d:\\desktop20230924-\\assignment 2\\.venv\\lib\\site-packages (from matplotlib) (2.8.2)\n",
                        "Requirement already satisfied: six>=1.5 in d:\\desktop20230924-\\assignment 2\\.venv\\lib\\site-packages (from python-dateutil>=2.7->matplotlib) (1.16.0)\n",
                        "Downloading matplotlib-3.8.3-cp311-cp311-win_amd64.whl (7.6 MB)\n",
                        "   ---------------------------------------- 0.0/7.6 MB ? eta -:--:--\n",
                        "   - -------------------------------------- 0.3/7.6 MB 10.6 MB/s eta 0:00:01\n",
                        "   ---- ----------------------------------- 0.8/7.6 MB 9.8 MB/s eta 0:00:01\n",
                        "   ------ --------------------------------- 1.2/7.6 MB 9.5 MB/s eta 0:00:01\n",
                        "   --------- ------------------------------ 1.9/7.6 MB 10.7 MB/s eta 0:00:01\n",
                        "   ------------ --------------------------- 2.4/7.6 MB 11.1 MB/s eta 0:00:01\n",
                        "   ---------------- ----------------------- 3.1/7.6 MB 11.8 MB/s eta 0:00:01\n",
                        "   -------------------- ------------------- 3.9/7.6 MB 12.3 MB/s eta 0:00:01\n",
                        "   ----------------------- ---------------- 4.5/7.6 MB 12.5 MB/s eta 0:00:01\n",
                        "   -------------------------- ------------- 5.1/7.6 MB 13.2 MB/s eta 0:00:01\n",
                        "   ------------------------------ --------- 5.9/7.6 MB 13.5 MB/s eta 0:00:01\n",
                        "   ---------------------------------- ----- 6.6/7.6 MB 13.7 MB/s eta 0:00:01\n",
                        "   ------------------------------------- -- 7.2/7.6 MB 13.6 MB/s eta 0:00:01\n",
                        "   ---------------------------------------  7.6/7.6 MB 13.6 MB/s eta 0:00:01\n",
                        "   ---------------------------------------- 7.6/7.6 MB 13.2 MB/s eta 0:00:00\n",
                        "Using cached contourpy-1.2.0-cp311-cp311-win_amd64.whl (187 kB)\n",
                        "Using cached cycler-0.12.1-py3-none-any.whl (8.3 kB)\n",
                        "Downloading fonttools-4.49.0-cp311-cp311-win_amd64.whl (2.2 MB)\n",
                        "   ---------------------------------------- 0.0/2.2 MB ? eta -:--:--\n",
                        "   ------------ --------------------------- 0.7/2.2 MB 22.1 MB/s eta 0:00:01\n",
                        "   ----------------------- ---------------- 1.3/2.2 MB 16.1 MB/s eta 0:00:01\n",
                        "   --------------------------------- ------ 1.8/2.2 MB 14.3 MB/s eta 0:00:01\n",
                        "   ---------------------------------------- 2.2/2.2 MB 13.9 MB/s eta 0:00:00\n",
                        "Using cached kiwisolver-1.4.5-cp311-cp311-win_amd64.whl (56 kB)\n",
                        "Using cached pillow-10.2.0-cp311-cp311-win_amd64.whl (2.6 MB)\n",
                        "Using cached pyparsing-3.1.1-py3-none-any.whl (103 kB)\n",
                        "Installing collected packages: pyparsing, pillow, kiwisolver, fonttools, cycler, contourpy, matplotlib\n",
                        "Successfully installed contourpy-1.2.0 cycler-0.12.1 fonttools-4.49.0 kiwisolver-1.4.5 matplotlib-3.8.3 pillow-10.2.0 pyparsing-3.1.1\n",
                        "Note: you may need to restart the kernel to use updated packages.\n"
                    ]
                }
            ],
            "source": [
                "%pip install matplotlib"
            ]
        }
    ],
    "metadata": {
        "kernelspec": {
            "display_name": "venv",
            "language": "python",
            "name": "python3"
        },
        "language_info": {
            "codemirror_mode": {
                "name": "ipython",
                "version": 3
            },
            "file_extension": ".py",
            "mimetype": "text/x-python",
            "name": "python",
            "nbconvert_exporter": "python",
            "pygments_lexer": "ipython3",
            "version": "3.11.6"
        }
    },
    "nbformat": 4,
    "nbformat_minor": 2
}
