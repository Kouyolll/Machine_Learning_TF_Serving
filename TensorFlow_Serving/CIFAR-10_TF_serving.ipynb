{
    "cells": [
        {
            "cell_type": "code",
            "execution_count": 3,
            "metadata": {},
            "outputs": [
                {
                    "name": "stdout",
                    "output_type": "stream",
                    "text": [
                        "Collecting tensorflow\n",
                        "  Using cached tensorflow-2.15.0-cp311-cp311-win_amd64.whl.metadata (3.6 kB)\n",
                        "Requirement already satisfied: tensorflow-intel==2.15.0 in d:\\desktop20230924-\\assignment 2\\.venv\\lib\\site-packages (from tensorflow) (2.15.0)\n",
                        "Requirement already satisfied: absl-py>=1.0.0 in d:\\desktop20230924-\\assignment 2\\.venv\\lib\\site-packages (from tensorflow-intel==2.15.0->tensorflow) (2.1.0)\n",
                        "Requirement already satisfied: astunparse>=1.6.0 in d:\\desktop20230924-\\assignment 2\\.venv\\lib\\site-packages (from tensorflow-intel==2.15.0->tensorflow) (1.6.3)\n",
                        "Requirement already satisfied: flatbuffers>=23.5.26 in d:\\desktop20230924-\\assignment 2\\.venv\\lib\\site-packages (from tensorflow-intel==2.15.0->tensorflow) (23.5.26)\n",
                        "Requirement already satisfied: gast!=0.5.0,!=0.5.1,!=0.5.2,>=0.2.1 in d:\\desktop20230924-\\assignment 2\\.venv\\lib\\site-packages (from tensorflow-intel==2.15.0->tensorflow) (0.5.4)\n",
                        "Requirement already satisfied: google-pasta>=0.1.1 in d:\\desktop20230924-\\assignment 2\\.venv\\lib\\site-packages (from tensorflow-intel==2.15.0->tensorflow) (0.2.0)\n",
                        "Requirement already satisfied: h5py>=2.9.0 in d:\\desktop20230924-\\assignment 2\\.venv\\lib\\site-packages (from tensorflow-intel==2.15.0->tensorflow) (3.10.0)\n",
                        "Requirement already satisfied: libclang>=13.0.0 in d:\\desktop20230924-\\assignment 2\\.venv\\lib\\site-packages (from tensorflow-intel==2.15.0->tensorflow) (16.0.6)\n",
                        "Requirement already satisfied: ml-dtypes~=0.2.0 in d:\\desktop20230924-\\assignment 2\\.venv\\lib\\site-packages (from tensorflow-intel==2.15.0->tensorflow) (0.2.0)\n",
                        "Requirement already satisfied: numpy<2.0.0,>=1.23.5 in d:\\desktop20230924-\\assignment 2\\.venv\\lib\\site-packages (from tensorflow-intel==2.15.0->tensorflow) (1.26.4)\n",
                        "Requirement already satisfied: opt-einsum>=2.3.2 in d:\\desktop20230924-\\assignment 2\\.venv\\lib\\site-packages (from tensorflow-intel==2.15.0->tensorflow) (3.3.0)\n",
                        "Requirement already satisfied: packaging in d:\\desktop20230924-\\assignment 2\\.venv\\lib\\site-packages (from tensorflow-intel==2.15.0->tensorflow) (23.2)\n",
                        "Requirement already satisfied: protobuf!=4.21.0,!=4.21.1,!=4.21.2,!=4.21.3,!=4.21.4,!=4.21.5,<5.0.0dev,>=3.20.3 in d:\\desktop20230924-\\assignment 2\\.venv\\lib\\site-packages (from tensorflow-intel==2.15.0->tensorflow) (4.25.3)\n",
                        "Requirement already satisfied: setuptools in d:\\desktop20230924-\\assignment 2\\.venv\\lib\\site-packages (from tensorflow-intel==2.15.0->tensorflow) (65.5.0)\n",
                        "Requirement already satisfied: six>=1.12.0 in d:\\desktop20230924-\\assignment 2\\.venv\\lib\\site-packages (from tensorflow-intel==2.15.0->tensorflow) (1.16.0)\n",
                        "Requirement already satisfied: termcolor>=1.1.0 in d:\\desktop20230924-\\assignment 2\\.venv\\lib\\site-packages (from tensorflow-intel==2.15.0->tensorflow) (2.4.0)\n",
                        "Requirement already satisfied: typing-extensions>=3.6.6 in d:\\desktop20230924-\\assignment 2\\.venv\\lib\\site-packages (from tensorflow-intel==2.15.0->tensorflow) (4.10.0)\n",
                        "Requirement already satisfied: wrapt<1.15,>=1.11.0 in d:\\desktop20230924-\\assignment 2\\.venv\\lib\\site-packages (from tensorflow-intel==2.15.0->tensorflow) (1.14.1)\n",
                        "Requirement already satisfied: tensorflow-io-gcs-filesystem>=0.23.1 in d:\\desktop20230924-\\assignment 2\\.venv\\lib\\site-packages (from tensorflow-intel==2.15.0->tensorflow) (0.31.0)\n",
                        "Requirement already satisfied: grpcio<2.0,>=1.24.3 in d:\\desktop20230924-\\assignment 2\\.venv\\lib\\site-packages (from tensorflow-intel==2.15.0->tensorflow) (1.62.0)\n",
                        "Requirement already satisfied: tensorboard<2.16,>=2.15 in d:\\desktop20230924-\\assignment 2\\.venv\\lib\\site-packages (from tensorflow-intel==2.15.0->tensorflow) (2.15.2)\n",
                        "Requirement already satisfied: tensorflow-estimator<2.16,>=2.15.0 in d:\\desktop20230924-\\assignment 2\\.venv\\lib\\site-packages (from tensorflow-intel==2.15.0->tensorflow) (2.15.0)\n",
                        "Requirement already satisfied: keras<2.16,>=2.15.0 in d:\\desktop20230924-\\assignment 2\\.venv\\lib\\site-packages (from tensorflow-intel==2.15.0->tensorflow) (2.15.0)\n",
                        "Requirement already satisfied: wheel<1.0,>=0.23.0 in d:\\desktop20230924-\\assignment 2\\.venv\\lib\\site-packages (from astunparse>=1.6.0->tensorflow-intel==2.15.0->tensorflow) (0.42.0)\n",
                        "Requirement already satisfied: google-auth<3,>=1.6.3 in d:\\desktop20230924-\\assignment 2\\.venv\\lib\\site-packages (from tensorboard<2.16,>=2.15->tensorflow-intel==2.15.0->tensorflow) (2.28.1)\n",
                        "Requirement already satisfied: google-auth-oauthlib<2,>=0.5 in d:\\desktop20230924-\\assignment 2\\.venv\\lib\\site-packages (from tensorboard<2.16,>=2.15->tensorflow-intel==2.15.0->tensorflow) (1.2.0)\n",
                        "Requirement already satisfied: markdown>=2.6.8 in d:\\desktop20230924-\\assignment 2\\.venv\\lib\\site-packages (from tensorboard<2.16,>=2.15->tensorflow-intel==2.15.0->tensorflow) (3.5.2)\n",
                        "Requirement already satisfied: requests<3,>=2.21.0 in d:\\desktop20230924-\\assignment 2\\.venv\\lib\\site-packages (from tensorboard<2.16,>=2.15->tensorflow-intel==2.15.0->tensorflow) (2.31.0)\n",
                        "Requirement already satisfied: tensorboard-data-server<0.8.0,>=0.7.0 in d:\\desktop20230924-\\assignment 2\\.venv\\lib\\site-packages (from tensorboard<2.16,>=2.15->tensorflow-intel==2.15.0->tensorflow) (0.7.2)\n",
                        "Requirement already satisfied: werkzeug>=1.0.1 in d:\\desktop20230924-\\assignment 2\\.venv\\lib\\site-packages (from tensorboard<2.16,>=2.15->tensorflow-intel==2.15.0->tensorflow) (3.0.1)\n",
                        "Requirement already satisfied: cachetools<6.0,>=2.0.0 in d:\\desktop20230924-\\assignment 2\\.venv\\lib\\site-packages (from google-auth<3,>=1.6.3->tensorboard<2.16,>=2.15->tensorflow-intel==2.15.0->tensorflow) (5.3.2)\n",
                        "Requirement already satisfied: pyasn1-modules>=0.2.1 in d:\\desktop20230924-\\assignment 2\\.venv\\lib\\site-packages (from google-auth<3,>=1.6.3->tensorboard<2.16,>=2.15->tensorflow-intel==2.15.0->tensorflow) (0.3.0)\n",
                        "Requirement already satisfied: rsa<5,>=3.1.4 in d:\\desktop20230924-\\assignment 2\\.venv\\lib\\site-packages (from google-auth<3,>=1.6.3->tensorboard<2.16,>=2.15->tensorflow-intel==2.15.0->tensorflow) (4.9)\n",
                        "Requirement already satisfied: requests-oauthlib>=0.7.0 in d:\\desktop20230924-\\assignment 2\\.venv\\lib\\site-packages (from google-auth-oauthlib<2,>=0.5->tensorboard<2.16,>=2.15->tensorflow-intel==2.15.0->tensorflow) (1.3.1)\n",
                        "Requirement already satisfied: charset-normalizer<4,>=2 in d:\\desktop20230924-\\assignment 2\\.venv\\lib\\site-packages (from requests<3,>=2.21.0->tensorboard<2.16,>=2.15->tensorflow-intel==2.15.0->tensorflow) (3.3.2)\n",
                        "Requirement already satisfied: idna<4,>=2.5 in d:\\desktop20230924-\\assignment 2\\.venv\\lib\\site-packages (from requests<3,>=2.21.0->tensorboard<2.16,>=2.15->tensorflow-intel==2.15.0->tensorflow) (3.6)\n",
                        "Requirement already satisfied: urllib3<3,>=1.21.1 in d:\\desktop20230924-\\assignment 2\\.venv\\lib\\site-packages (from requests<3,>=2.21.0->tensorboard<2.16,>=2.15->tensorflow-intel==2.15.0->tensorflow) (2.2.1)\n",
                        "Requirement already satisfied: certifi>=2017.4.17 in d:\\desktop20230924-\\assignment 2\\.venv\\lib\\site-packages (from requests<3,>=2.21.0->tensorboard<2.16,>=2.15->tensorflow-intel==2.15.0->tensorflow) (2024.2.2)\n",
                        "Requirement already satisfied: MarkupSafe>=2.1.1 in d:\\desktop20230924-\\assignment 2\\.venv\\lib\\site-packages (from werkzeug>=1.0.1->tensorboard<2.16,>=2.15->tensorflow-intel==2.15.0->tensorflow) (2.1.5)\n",
                        "Requirement already satisfied: pyasn1<0.6.0,>=0.4.6 in d:\\desktop20230924-\\assignment 2\\.venv\\lib\\site-packages (from pyasn1-modules>=0.2.1->google-auth<3,>=1.6.3->tensorboard<2.16,>=2.15->tensorflow-intel==2.15.0->tensorflow) (0.5.1)\n",
                        "Requirement already satisfied: oauthlib>=3.0.0 in d:\\desktop20230924-\\assignment 2\\.venv\\lib\\site-packages (from requests-oauthlib>=0.7.0->google-auth-oauthlib<2,>=0.5->tensorboard<2.16,>=2.15->tensorflow-intel==2.15.0->tensorflow) (3.2.2)\n",
                        "Using cached tensorflow-2.15.0-cp311-cp311-win_amd64.whl (2.1 kB)\n",
                        "Installing collected packages: tensorflow\n",
                        "Successfully installed tensorflow-2.15.0\n",
                        "Note: you may need to restart the kernel to use updated packages.\n"
                    ]
                }
            ],
            "source": [
                "%pip install tensorflow\n"
            ]
        },
        {
            "cell_type": "code",
            "execution_count": 29,
            "metadata": {},
            "outputs": [
                {
                    "name": "stdout",
                    "output_type": "stream",
                    "text": [
                        "Epoch 1/15\n",
                        "1563/1563 [==============================] - 74s 46ms/step - loss: 1.4172 - accuracy: 0.5068 - val_loss: 1.3013 - val_accuracy: 0.5490\n",
                        "Epoch 2/15\n",
                        "1563/1563 [==============================] - 68s 44ms/step - loss: 0.9212 - accuracy: 0.6778 - val_loss: 0.8881 - val_accuracy: 0.6963\n",
                        "Epoch 3/15\n",
                        "1563/1563 [==============================] - 67s 43ms/step - loss: 0.7612 - accuracy: 0.7346 - val_loss: 0.7349 - val_accuracy: 0.7444\n",
                        "Epoch 4/15\n",
                        "1563/1563 [==============================] - 70s 45ms/step - loss: 0.6570 - accuracy: 0.7735 - val_loss: 0.7303 - val_accuracy: 0.7443\n",
                        "Epoch 5/15\n",
                        "1563/1563 [==============================] - 69s 44ms/step - loss: 0.5729 - accuracy: 0.8036 - val_loss: 0.7346 - val_accuracy: 0.7580\n",
                        "Epoch 6/15\n",
                        "1563/1563 [==============================] - 70s 44ms/step - loss: 0.5161 - accuracy: 0.8229 - val_loss: 0.6567 - val_accuracy: 0.7859\n",
                        "Epoch 7/15\n",
                        "1563/1563 [==============================] - 69s 44ms/step - loss: 0.4565 - accuracy: 0.8431 - val_loss: 0.8630 - val_accuracy: 0.7208\n",
                        "Epoch 8/15\n",
                        "1563/1563 [==============================] - 68s 44ms/step - loss: 0.4091 - accuracy: 0.8605 - val_loss: 0.5972 - val_accuracy: 0.8024\n",
                        "Epoch 9/15\n",
                        "1563/1563 [==============================] - 68s 43ms/step - loss: 0.3679 - accuracy: 0.8736 - val_loss: 0.5519 - val_accuracy: 0.8167\n",
                        "Epoch 10/15\n",
                        "1563/1563 [==============================] - 68s 44ms/step - loss: 0.3400 - accuracy: 0.8823 - val_loss: 0.4976 - val_accuracy: 0.8393\n",
                        "Epoch 11/15\n",
                        "1563/1563 [==============================] - 68s 44ms/step - loss: 0.3081 - accuracy: 0.8932 - val_loss: 0.6145 - val_accuracy: 0.8029\n",
                        "Epoch 12/15\n",
                        "1563/1563 [==============================] - 69s 44ms/step - loss: 0.2896 - accuracy: 0.8991 - val_loss: 0.5836 - val_accuracy: 0.8148\n",
                        "Epoch 13/15\n",
                        "1563/1563 [==============================] - 68s 43ms/step - loss: 0.2600 - accuracy: 0.9090 - val_loss: 0.6165 - val_accuracy: 0.8117\n",
                        "Epoch 14/15\n",
                        "1563/1563 [==============================] - 68s 43ms/step - loss: 0.2426 - accuracy: 0.9154 - val_loss: 0.5742 - val_accuracy: 0.8322\n",
                        "Epoch 15/15\n",
                        "1563/1563 [==============================] - 67s 43ms/step - loss: 0.2273 - accuracy: 0.9200 - val_loss: 0.5100 - val_accuracy: 0.8472\n",
                        "INFO:tensorflow:Assets written to: d:\\desktop20230924-\\Assignment 2\\1\\assets\n"
                    ]
                },
                {
                    "name": "stderr",
                    "output_type": "stream",
                    "text": [
                        "INFO:tensorflow:Assets written to: d:\\desktop20230924-\\Assignment 2\\1\\assets\n"
                    ]
                }
            ],
            "source": [
                "import tensorflow as tf\n",
                "import os \n",
                "\n",
                "\n",
                "gpus = tf.config.experimental.list_physical_devices('GPU')\n",
                "if gpus:\n",
                "    try:\n",
                "\n",
                "        for gpu in gpus:\n",
                "            tf.config.experimental.set_memory_growth(gpu, True)\n",
                "\n",
                "        tf.config.experimental.set_visible_devices(gpus[0], 'GPU')\n",
                "    except RuntimeError as e:\n",
                "        print(e)\n",
                "# Load CIFAR-10 dataset\n",
                "(x_train, y_train), (x_test, y_test) = tf.keras.datasets.cifar10.load_data()\n",
                "\n",
                "# Normalize the data\n",
                "x_train, x_test = x_train / 255.0, x_test / 255.0\n",
                "\n",
                "# Define a CNN model\n",
                "model = tf.keras.models.Sequential([\n",
                "   # First convolutional layer with 64 filters, kernel size of 3, and 'same' padding to maintain input size\n",
                "  tf.keras.layers.Conv2D(64, (3, 3), padding='same', activation='relu', input_shape=x_train.shape[1:]),\n",
                "  # Batch normalization to normalize the activations from the previous layer\n",
                "  tf.keras.layers.BatchNormalization(),\n",
                "  # Max pooling layer with pool size of 2x2\n",
                "  tf.keras.layers.MaxPooling2D((2, 2)),\n",
                "  \n",
                "  # Increasing the number of filters with depth to capture more complex features\n",
                "  tf.keras.layers.Conv2D(128, (3, 3), padding='same', activation='relu'),\n",
                "  tf.keras.layers.BatchNormalization(),\n",
                "  tf.keras.layers.Conv2D(128, (3, 3), padding='same', activation='relu'),\n",
                "  tf.keras.layers.MaxPooling2D((2, 2)),\n",
                "  # Dropout to prevent overfitting by randomly setting a fraction of input units to 0 during training\n",
                "  tf.keras.layers.Dropout(0.3),\n",
                "\n",
                "  # Further increasing the number of filters\n",
                "  tf.keras.layers.Conv2D(256, (3, 3), padding='same', activation='relu'),\n",
                "  tf.keras.layers.BatchNormalization(),\n",
                "  tf.keras.layers.Conv2D(256, (3, 3), padding='same', activation='relu'),\n",
                "  tf.keras.layers.MaxPooling2D((2, 2)),\n",
                "  tf.keras.layers.Dropout(0.4),\n",
                "  \n",
                "  # Flatten the output of the convolutional layers to feed into the dense layers\n",
                "  tf.keras.layers.Flatten(),\n",
                "  # Dense (fully connected) layer with 512 units and ReLU activation\n",
                "  tf.keras.layers.Dense(512, activation='relu'),\n",
                "  tf.keras.layers.BatchNormalization(),\n",
                "  tf.keras.layers.Dropout(0.4),\n",
                "  # Output dense layer with 10 units, one for each class, with no activation \n",
                "  tf.keras.layers.Dense(10)\n",
                "])\n",
                "\n",
                "# Compile the model\n",
                "model.compile(optimizer='adam',\n",
                "              loss=tf.keras.losses.SparseCategoricalCrossentropy(from_logits=True),\n",
                "              metrics=['accuracy'])\n",
                "\n",
                "# Train the model\n",
                "model.fit(x_train, y_train, epochs= 15, validation_data=(x_test, y_test))\n",
                "\n",
                "# Save the model in TensorFlow SavedModel format\n",
                "model.save(os.path.join(os.getcwd(),\"1\"))  # The '1' denotes the model version"
            ]
        },
        {
            "cell_type": "code",
            "execution_count": 30,
            "metadata": {},
            "outputs": [
                {
                    "name": "stdout",
                    "output_type": "stream",
                    "text": [
                        "313/313 - 5s - loss: 0.5100 - accuracy: 0.8472 - 5s/epoch - 15ms/step\n"
                    ]
                },
                {
                    "data": {
                        "text/plain": [
                            "[0.509979784488678, 0.8471999764442444]"
                        ]
                    },
                    "execution_count": 30,
                    "metadata": {},
                    "output_type": "execute_result"
                }
            ],
            "source": [
                "# Evaluate the model\n",
                "model.evaluate(x_test, y_test, verbose=2)"
            ]
        },
        {
            "cell_type": "code",
            "execution_count": 13,
            "metadata": {},
            "outputs": [
                {
                    "name": "stdout",
                    "output_type": "stream",
                    "text": [
                        "tf_serving\n",
                        "tf_serving\n"
                    ]
                }
            ],
            "source": [
                "#TODO Use TensorFlow_serving.ipynb to figure out how to stop the tensorflow serving from running and remove the container if one exists\n",
                "\n",
                "!docker stop tf_serving\n",
                "!docker rm tf_serving"
            ]
        },
        {
            "cell_type": "code",
            "execution_count": 14,
            "metadata": {},
            "outputs": [
                {
                    "name": "stdout",
                    "output_type": "stream",
                    "text": [
                        "Using default tag: latest\n",
                        "latest: Pulling from tensorflow/serving\n",
                        "Digest: sha256:fdc296e313fa4454173c5728fceda38f5d18cdb44c71a9f279ce61bc5818335e\n",
                        "Status: Image is up to date for tensorflow/serving:latest\n",
                        "docker.io/tensorflow/serving:latest\n"
                    ]
                },
                {
                    "name": "stderr",
                    "output_type": "stream",
                    "text": [
                        "\n",
                        "What's Next?\n",
                        "  View a summary of image vulnerabilities and recommendations → docker scout quickview tensorflow/serving\n"
                    ]
                },
                {
                    "name": "stdout",
                    "output_type": "stream",
                    "text": [
                        "^C\n"
                    ]
                }
            ],
            "source": [
                "#TODO Use TensorFlow_serving.ipynb to figure out how to pull the image for tensorflow serving and open a container to serve our model \n",
                "\n",
                "!docker pull tensorflow/serving\n",
                "!docker run -p 8501:8501 --name=tf_serving --mount type=bind,source=\"D:/desktop20230924-/Assignment 2/1/\",target=/models/my_model/1 -e MODEL_NAME=my_model -t tensorflow/serving\n"
            ]
        },
        {
            "cell_type": "code",
            "execution_count": 32,
            "metadata": {},
            "outputs": [
                {
                    "name": "stdout",
                    "output_type": "stream",
                    "text": [
                        "Time needed to make prediction: 0.062499284744262695\n"
                    ]
                },
                {
                    "data": {
                        "image/png": "[encoded data removed]",
                        "text/plain": [
                            "<Figure size 640x480 with 1 Axes>"
                        ]
                    },
                    "metadata": {},
                    "output_type": "display_data"
                }
            ],
            "source": [
                "import requests\n",
                "import json\n",
                "import numpy as np\n",
                "import matplotlib.pyplot as plt\n",
                "import time \n",
                "\n",
                "# Select a random test image\n",
                "idx = np.random.randint(len(x_test))\n",
                "test_image = x_test[idx]\n",
                "test_image_input = test_image.reshape(1, 32, 32, 3)\n",
                "\n",
                "# Convert to list for JSON\n",
                "image_list = test_image_input.tolist()\n",
                "\n",
                "# URL of TensorFlow Serving server\n",
                "url = 'http://localhost:8501/v1/models/my_model:predict'\n",
                "\n",
                "# Select a random test image\n",
                "idx = np.random.randint(len(x_test))\n",
                "test_image = x_test[idx]\n",
                "test_image_input = test_image.reshape(1, 32, 32, 3)\n",
                "\n",
                "# Convert to list for JSON\n",
                "image_list = test_image_input.tolist()\n",
                "\n",
                "# Prepare input data\n",
                "data = {\"instances\": image_list}\n",
                "json_data = json.dumps(data)\n",
                "\n",
                "# Send POST request\n",
                "\n",
                "\n",
                "# using ML_Systems_Assignment_1.ipynb, figure out how much time it takes (the latency) between sending an image to our ML model and receiving a repsonse.\n",
                "start_time=time.time()\n",
                "response = requests.post(url, data=json_data)\n",
                "end_time=time.time()\n",
                "latency= end_time - start_time\n",
                "result = response.json()\n",
                "\n",
                "print(f\"Time needed to make prediction: {latency}\")  \n",
                "\n",
                "# Interpret the response\n",
                "predicted_class = np.argmax(result['predictions'][0])\n",
                "\n",
                "\n",
                "# Display the results\n",
                "plt.imshow(test_image)\n",
                "plt.title(f\"Predicted Class: {predicted_class} \\nTrue Class: {y_test[idx][0]}\")\n",
                "plt.show()\n"
            ]
        }
    ],
    "metadata": {
        "kernelspec": {
            "display_name": "venv",
            "language": "python",
            "name": "python3"
        },
        "language_info": {
            "codemirror_mode": {
                "name": "ipython",
                "version": 3
            },
            "file_extension": ".py",
            "mimetype": "text/x-python",
            "name": "python",
            "nbconvert_exporter": "python",
            "pygments_lexer": "ipython3",
            "version": "3.11.6"
        }
    },
    "nbformat": 4,
    "nbformat_minor": 2
}
